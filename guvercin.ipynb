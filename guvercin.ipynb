{
  "nbformat": 4,
  "nbformat_minor": 0,
  "metadata": {
    "colab": {
      "name": "guvercin.ipynb",
      "version": "0.3.2",
      "provenance": [],
      "include_colab_link": true
    },
    "kernelspec": {
      "name": "python3",
      "display_name": "Python 3"
    }
  },
  "cells": [
    {
      "cell_type": "markdown",
      "metadata": {
        "id": "view-in-github",
        "colab_type": "text"
      },
      "source": [
        "<a href=\"https://colab.research.google.com/github/celikenes/GuvercinYuvaPrensibi/blob/master/guvercin.ipynb\" target=\"_parent\"><img src=\"https://colab.research.google.com/assets/colab-badge.svg\" alt=\"Open In Colab\"/></a>"
      ]
    },
    {
      "metadata": {
        "id": "sHET1dptLVtp",
        "colab_type": "text"
      },
      "cell_type": "markdown",
      "source": [
        "# Güvercin Yuvası (Pigeonhole Principle)\n",
        "\n",
        "Bilgisayar bilimleri de dahil olmak üzere pek çok matematik temelli bilim ve mühendislik alanında kullanılan oldukça basit bir umdedir. İsmini güvercin yuvalarından alan bu kaideye göre yuva sayısından fazla güvercin varsa, ve bütün güvercinler bir yuvaya girecekse, en az bir yuvaya birden fazla güvercin girmek zorundadır. Bu durumu sembollerle göstermemiz gerekirse n tane yuva ve m tane güvercin için m > n durumunda en az bir yuvada birden fazla güvercin bulunmalıdır. Bilgisayar bilimlerinde çok sayıda sonsuz küme ile uğraşırken oldukça kullanışlı olan bu kaide, örneğin özetleme fonksiyonlarında (hashing function) bir çakışma (collision) ihtimalinin hesaplanmasında ya da kayıpsız sıkıştırma algoritmasının (lossless compression algorithm) istatistiksel analizinde kullanılabilir. Örnek: N adet pozitif tam sayı arasında en az iki sayının farkı N-1’e tam bölünebilir. Yukarıdaki iddiayı (hipotez) güvercin yuvası prensibi ile ispatlayalım. Öncelikle N adet tam sayımız olduğunu biliyoruz. Bu sayılara a1, a2, …, aN diyelim ve herhangi bir ai sayısı için N-1bölümünden kalan değerini ri diyelim. Yani ri = ai mod(N-1) olsun. Şimdi güvercin yuvası prensibini kullanıyoruz ve diyoruz ki elimizde en fazla N-1 tane farklı kalan değeri olabilir. Yani ri değerinden en fazla N-1 tane olabilir. Sebebi ise basit, mod(N-1) içinde en fazla N-1 farklı sayı olabilir. Peki elimizde kaç sayı var ? N sayı. Dolayısıyla en az iki sayının bölümünden kalan değer aynı olacaktır. Diğer bir değişle N farklı sayının N-1 farklı kalana bölünmesi durumunda en az iki sayı aynı kalan sahip olacaktır. Bu sayıların farkı da aynı kalana sahip olacağından iddiamızı ispatlamış oluruz. Örnek: N pozitif tam sayı için, sayıların bir kısmının yada tamamının toplamı N ile kalansız bölünebilir. Bu iddianın ispatında da sayıları matematiksel olarak modelleyelim. Öncelikle toplamları b ile ifade edersek, b1 = (a1) mod(N), b2 =(a1 + a2) mod(N), b3 = (a1+a2+a3) mod(N), …, bN = (a1 + … + aN) mod(N) olarak göstermek mümkündür. Şayet sayılardan birisi 0 ise, yani b değerlerinden birisinin 0 olduğunu bulabiliyorsak, bu durumda zaten ispat yapılmış olur. Çünkü iddiamızda N ile kalansız bölünebileceğinden bahsediyorduk. Şayet sayılardan birisi 0 değilse bu durumda toplamları elde ettiğimiz sayıların seçiminde a1 ‘den başlayarak ai gibi bir sayıya kadar olanları almak yerine (ai+1 + … + aj) mod(N) = 0, olduğunu gösterebiliriz. Gerçekten de mod N işlemi sonucunda N-1 farklı sayı çıkacağını biliyoruz. Elimizde N sayı bulunduğunu düşünürsek o zaman yukarıdaki gösterime göre en az iki tane b değeri aynı olmalıdır. Örneğin bu değerler bi = bj olsun ve i < j olduğunu kabul edelim. Bu durumda (ai+1 + … + aj) mod(N) = 0 olduğu gösterilmiş olur.\n",
        "\n",
        "Kaynak: http://bilgisayarkavramlari.sadievrenseker.com/2009/12/10/guvercin-yuvasi-kaidesi-pigeonhole-principle/\n",
        "\n",
        "# Örnek\n",
        "\n",
        "**İskambil Kağıdı Oyunu**\n",
        "\n",
        "Misafir 52 kağıttan oluşan bir iskambil destesinden rasgele tamamı kapalı 5 tane kağıt seçer ve asistanınıza verir. Asistanınız bu 5 kağıdın tamamını görüp; önceden ikinizin belirlemiş olduğunuz kurallarla asistanınızın belirlediği 4 kağıdı size sırayla açar ve sizde sadece bu 4 kağıdın sıralanmasıyla misafir seçtiği 5. kağıdı bulursunuz.\n",
        "\n",
        "**Çözüm**\n",
        "\n",
        "Aynı olan 2 sınıf kağıdı ele alalım büyük olan X küçük olan da Y olsun\n",
        "o zaman eğer sayıların arasında 6 dan fazla fark varsa asistan küçük olanı dışarıda bırakır, fark 6 veya daha azsa büyük olanı dışarıda bırakır ve diğer kağıdı ilk olarak açar, örneğin açtığı kağıt kupaysa biz dışaraki kağıdın da kupa olduğunu daha ilk kağıtta anladık. Şimdi kalan 3 kağıt bize 6 değişik bilgi verdiğine göre her bilgiye 1 den 6 ya kadar bir değer atarız mesela kağıtlar A,B ve C ise (A>B>C)\n",
        "ABC =1\n",
        "ACB =2 \n",
        "BAC =3\n",
        "BCA =4\n",
        "CAB =5\n",
        "CBA =6 gibi\n",
        "\n",
        "bu çıkan değeri ilk açılan kupanın değerin eklediğimizde dışarıda bırakılan kağıt bulunur. (eğer sonuç 13 ten çoksa sonuçtan 13 çıkarılır)\n",
        "\n",
        "Örnek bir oyun oynayalım:\n",
        "seçilen 5 kağıt \n",
        "kupa kız(12) , kupa 3 , karo 7 , karo 10 ve maça 8 olsun\n",
        "\n",
        "kupa 3 dışarı bırakılır , kupa kız ilk olarak açılır (dışardakinin kupa olduğunu anladık. Kız 12 olduğuna göre 3 elde etmek için 4 numaralı sıralamayla diğer 3 kağıdı açarsa (genelliği bozmadan maça>sinek>karo>kupa olsun o zaman A=maça8 , B=karo10 , C=karo7 olur)\n",
        "yani karo10 , karo7 ve maça 8 sıralamasıyla açılırsa biz dışardaki kağıdın kupa ve kızdan 4 yukardaki kağıt olduğunu yani kupa3 olduğunu anlarız."
      ]
    },
    {
      "metadata": {
        "id": "-VPlfKe7LTsc",
        "colab_type": "code",
        "colab": {}
      },
      "cell_type": "code",
      "source": [
        "\"\"\"\n",
        "guvercin: guvercin prensibi hesaplayan fonksiyon\n",
        "giris, adet: klavyeden girilen iskambil kagit sayisi\n",
        "out: islem sonucu\n",
        "mod: mod sonucunu tutar\n",
        "\"\"\"\n",
        "\n",
        "def guvercin (adet):\n",
        "    \n",
        "    mod = adet % 4\n",
        "\n",
        "    if (mod!=0):\n",
        "        out = int (adet / 4 ) + 1\n",
        "        return out\n",
        "    else:\n",
        "        out = int (adet / 4 )\n",
        "        return out\n",
        "\n",
        "giris = input(\"iskambil kagit sayisi (5,9,13...): \")\n",
        "adet = int (giris)\n",
        "out = guvercin (adet)\n",
        "print(\"en az \", str(out), \"adet ayni turden kagit vardir\")"
      ],
      "execution_count": 0,
      "outputs": []
    }
  ]
}